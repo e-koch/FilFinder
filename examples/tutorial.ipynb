{
 "cells": [
  {
   "cell_type": "markdown",
   "metadata": {},
   "source": [
    "FilFinder Tutorial\n",
    "=================="
   ]
  },
  {
   "cell_type": "markdown",
   "metadata": {},
   "source": [
    "This tutorial demonstrates the FilFinder algorithm on a simulated data set. The updated algorithm from ```FilFinder2D``` is used here, which is valid for versions >1.5. This tutorial was tested with python 3.6.\n",
    "\n",
    "The example data is included in the github repository [here](https://github.com/e-koch/FilFinder/blob/master/examples/filaments_updatedhdr.fits)."
   ]
  },
  {
   "cell_type": "code",
   "execution_count": null,
   "metadata": {},
   "outputs": [],
   "source": [
    "%matplotlib inline\n",
    "import matplotlib.pyplot as plt\n",
    "import astropy.units as u\n",
    "\n",
    "import numpy as np\n",
    "\n",
    "# Optional settings for the plots. Comment out if needed.\n",
    "import seaborn as sb\n",
    "sb.set_context('poster')\n",
    "\n",
    "import matplotlib as mpl\n",
    "mpl.rcParams['figure.figsize'] = (12., 9.6)"
   ]
  },
  {
   "cell_type": "markdown",
   "metadata": {},
   "source": [
    "Input Data\n",
    "--------\n",
    "\n",
    "There are two caveats to the input data:\n",
    "\n",
    "1) All angular and physical conversions assume that pixels in the image can be treated as squares. `FilFinder2D` is not aware of any axis misalignments! If you're data does not have aligned celestial axes, we recommend reprojecting the data onto a square grid.\n",
    "\n",
    "2) The beam size is characterized by the major axis, assuming a 2D Gaussian beam shape. If the beam size of your data is highly elliptical, it is recommended to convolve the data to a circular beam.\n",
    "\n",
    "```FilFinder2D``` accepts several input types, including a FITS HDU and numpy arrays."
   ]
  },
  {
   "cell_type": "code",
   "execution_count": null,
   "metadata": {},
   "outputs": [],
   "source": [
    "from fil_finder import FilFinder2D\n",
    "from astropy.io import fits\n",
    "\n",
    "hdu = fits.open(\"examples/filaments_updatedhdr.fits\")[0]\n",
    "\n",
    "fil = FilFinder2D(hdu)"
   ]
  },
  {
   "cell_type": "code",
   "execution_count": null,
   "metadata": {},
   "outputs": [],
   "source": [
    "# HDU data as an array\n",
    "arr = hdu.data\n",
    "hdr = hdu.header\n",
    "\n",
    "fil = FilFinder2D(arr)"
   ]
  },
  {
   "cell_type": "markdown",
   "metadata": {},
   "source": [
    "In this case, no WCS information is given and all results will be returned in pixel units. Angular units can be returned when the header is specified:"
   ]
  },
  {
   "cell_type": "code",
   "execution_count": null,
   "metadata": {},
   "outputs": [],
   "source": [
    "fil = FilFinder2D(arr, header=hdr)"
   ]
  },
  {
   "cell_type": "markdown",
   "metadata": {
    "collapsed": true,
    "jupyter": {
     "outputs_hidden": true
    }
   },
   "source": [
    "If [spectral-cube](https://spectral-cube.readthedocs.io/en/latest/) is installed, the `Projection` or `Slice` classes can also be passed to `FilFinder2D`:"
   ]
  },
  {
   "cell_type": "code",
   "execution_count": null,
   "metadata": {},
   "outputs": [],
   "source": [
    "from spectral_cube import Projection\n",
    "\n",
    "proj = Projection.from_hdu(hdu)\n",
    "\n",
    "fil = FilFinder2D(proj)"
   ]
  },
  {
   "cell_type": "markdown",
   "metadata": {},
   "source": [
    "Other Inputs to `FilFinder2D`:\n",
    "----------------------------\n",
    "\n",
    "Note that numerical inputs must be given as `~astropy.units.Quantity` object with the appropriate unit.\n",
    "\n",
    "### Distance \n",
    "\n",
    "To facilitate conversions to physical units, a distance can be given to `FilFinder2D`:"
   ]
  },
  {
   "cell_type": "code",
   "execution_count": null,
   "metadata": {},
   "outputs": [],
   "source": [
    "fil = FilFinder2D(hdu, distance=250 * u.pc)"
   ]
  },
  {
   "cell_type": "markdown",
   "metadata": {},
   "source": [
    "### Angular Scale\n",
    "\n",
    "If no header information is given, the pixel-to-angular conversion can be given:"
   ]
  },
  {
   "cell_type": "code",
   "execution_count": null,
   "metadata": {},
   "outputs": [],
   "source": [
    "fil = FilFinder2D(arr, ang_scale=0.1 * u.deg)"
   ]
  },
  {
   "cell_type": "markdown",
   "metadata": {},
   "source": [
    "### Beam width \n",
    "\n",
    "If the major axis of the beam is contained in the header, it will be automatically read in. If that information is not in the header, the beam size can be passed separately:"
   ]
  },
  {
   "cell_type": "code",
   "execution_count": null,
   "metadata": {},
   "outputs": [],
   "source": [
    "fil = FilFinder2D(hdu, beamwidth=10 * u.arcsec)"
   ]
  },
  {
   "cell_type": "markdown",
   "metadata": {},
   "source": [
    "###  Custom Filament Masks\n",
    "\n",
    "If you have a pre-computed filament mask, the mask array can be passed:"
   ]
  },
  {
   "cell_type": "code",
   "execution_count": null,
   "metadata": {},
   "outputs": [],
   "source": [
    "# Example custom mask\n",
    "mask = hdu.data > 1.\n",
    "\n",
    "fil = FilFinder2D(hdu, mask=mask)"
   ]
  },
  {
   "cell_type": "markdown",
   "metadata": {},
   "source": [
    "The custom mask must have the same shape as the inputed image.\n",
    "\n",
    "### Save Name\n",
    "\n",
    "A prefix for saved plots and table can be given:"
   ]
  },
  {
   "cell_type": "code",
   "execution_count": null,
   "metadata": {},
   "outputs": [],
   "source": [
    "fil = FilFinder2D(hdu, save_name=\"FilFinder_Output\")"
   ]
  },
  {
   "cell_type": "markdown",
   "metadata": {},
   "source": [
    "The beamwidth is $24''$ and is defined in the header."
   ]
  },
  {
   "cell_type": "markdown",
   "metadata": {},
   "source": [
    "### Parallel Processing options\n",
    "\n",
    "`FilFinder2D` now allows operations over invidividual filaments to be parallelized with the `pool` and `nthreads` kwargs.\n",
    "\n",
    "The default is `None` which will trigger creating a `oncurrent.futures.ProcessPoolExecutor` with `nthread` processes (default is 1).\n",
    "\n",
    "Alternatively, you can use [`mpi4py.futures.MPIPoolExecutor`](https://mpi4py.readthedocs.io/en/stable/mpi4py.futures.html#mpi4py.futures.MPIPoolExecutor) as the `pool` when working in an MPI environment. By default the `max_workers` will be set by the [`MPI4PY_FUTURES_MAX_WORKERS`](https://mpi4py.readthedocs.io/en/stable/mpi4py.futures.html#envvar-MPI4PY_FUTURES_MAX_WORKERS) environment variable.\n"
   ]
  },
  {
   "cell_type": "code",
   "execution_count": null,
   "metadata": {},
   "outputs": [],
   "source": [
    "from concurrent.futures import ProcessPoolExecutor\n",
    "\n",
    "mypool = ProcessPoolExecutor(max_workers=2)\n",
    "fil = FilFinder2D(hdu, save_name=\"FilFinder_Output\", pool=mypool)\n",
    "\n",
    "# is equivalent to\n",
    "\n",
    "fil = FilFinder2D(hdu, save_name=\"FilFinder_Output\", pool=None, nthreads=2)\n",
    "\n",
    "# Using mpi4py:\n",
    "# from mpi4py.futures import MPIPoolExecutor\n",
    "\n",
    "# mypool = MPIPoolExecutor(max_workers=None)\n",
    "# fil = FilFinder2D(hdu, save_name=\"FilFinder_Output\", pool=mypool)\n",
    "\n"
   ]
  },
  {
   "cell_type": "markdown",
   "metadata": {},
   "source": [
    "For the purposes of this tutorial, we will assume that the data has WCS information and a well-defined distance:"
   ]
  },
  {
   "cell_type": "code",
   "execution_count": null,
   "metadata": {},
   "outputs": [],
   "source": [
    "fil = FilFinder2D(hdu, distance=260 * u.pc)"
   ]
  },
  {
   "cell_type": "markdown",
   "metadata": {},
   "source": [
    "Image Preprocessing\n",
    "-----------------"
   ]
  },
  {
   "cell_type": "markdown",
   "metadata": {
    "collapsed": true,
    "jupyter": {
     "outputs_hidden": true
    }
   },
   "source": [
    "Prior to creating the mask, it can be helpful to first *flatten* the image of bright compact sources. `FilFinder2D` uses an arctan transform, where the data are first normalized by some percentile value of the data:"
   ]
  },
  {
   "cell_type": "code",
   "execution_count": null,
   "metadata": {},
   "outputs": [],
   "source": [
    "fil.preprocess_image(flatten_percent=95)"
   ]
  },
  {
   "cell_type": "code",
   "execution_count": null,
   "metadata": {},
   "outputs": [],
   "source": [
    "plt.subplot(121)\n",
    "plt.imshow(fil.image.value, origin='lower')\n",
    "plt.title(\"Image\")\n",
    "plt.subplot(122)\n",
    "plt.imshow(fil.flat_img.value, origin='lower')\n",
    "plt.title(\"Flattened Image\")\n",
    "plt.tight_layout()"
   ]
  },
  {
   "cell_type": "markdown",
   "metadata": {},
   "source": [
    "If a percentile is not given, `FilFinder2D.preprocess_image` will try to fit a log-normal distribution to the data and will set the threshold at $\\mu + 2 \\sigma$. **There are no checks for the quality of the fit. Use only if you are confident that the brightness distribution is close to a log-normal.**\n",
    "\n",
    "If you wish to run the masking procedure without flattening the image, use the command:"
   ]
  },
  {
   "cell_type": "code",
   "execution_count": null,
   "metadata": {},
   "outputs": [],
   "source": [
    "fil.preprocess_image(skip_flatten=True)"
   ]
  },
  {
   "cell_type": "markdown",
   "metadata": {},
   "source": [
    "The original image will be set as `fil.flat_img` and used in the masking step.\n",
    "\n",
    "For this example, we will use the prior flattened image."
   ]
  },
  {
   "cell_type": "code",
   "execution_count": null,
   "metadata": {},
   "outputs": [],
   "source": [
    "fil.preprocess_image(flatten_percent=95)"
   ]
  },
  {
   "cell_type": "markdown",
   "metadata": {},
   "source": [
    "Masking\n",
    "--------\n",
    "\n",
    "Creating the filament mask is a complex process performed by `FilFinder2D.create_mask`. There are several parameters that set the masking behaviour.\n",
    "\n",
    "If a FITS header and distance were provided at the beginning, `FilFinder2D` will use default guesses based on typical filament sizes from Herschel studies of the Gould Belt clouds (e.g., [Koch & Rosolowsky 2015](https://ui.adsabs.harvard.edu/#abs/2015MNRAS.452.3435K/abstract)). These choices will not be the optimal settings in general, and we recommend trying different different parameter setting before using the resulting mask for the analysis.\n",
    "\n",
    "If a distance was not provided, these parameters must be set. `FilFinder2D` will raise errors until the required parameters are given.\n",
    "\n",
    "This simulated data set is an example where the default `FilFinder2D` settings do not provide an ideal filament mask:"
   ]
  },
  {
   "cell_type": "code",
   "execution_count": null,
   "metadata": {},
   "outputs": [],
   "source": [
    "fil.create_mask(verbose=True)"
   ]
  },
  {
   "cell_type": "markdown",
   "metadata": {},
   "source": [
    "Most of the filamentary structure has been ignored by the mask. There are several parameters that can be set to improve the mask:\n",
    "\n",
    "* `glob_thresh` -- Set a minimum intensity for a pixel to be included in the mask. This is useful for removing noisy regions in the data from the mask. Must have the same units as `fil.image`.\n",
    "* `adapt_thresh` -- The width of the element used for the adaptive thresholding mask. This is primarily the step that picks out the filamentary structure. The element size should be similar to the width of the expected filamentary structure. The default here, when distance is provided, is 0.1 pc.\n",
    "* `smooth_size` -- It is often helpful to smooth the data before calculating the mask. By smoothing in small scales, small noise variations are removed resulting in a simpler skeleton structure. The default is set to 0.05 pc.\n",
    "* `size_thresh` -- The minimum number of pixels a region of the mask must have to be considered real. The default is set by assuming a minimum filament size to be an ellipse with a 0.1 pc width and length of 0.5 pc. *Most data sets will require this parameter to be manually set,* as is used below.\n",
    "* `regrid` -- If the pixel width of `adapt_thresh` is less than 40 pixels, the resulting mask may be fragmented due to pixelization. To increase the size of `adapt_thresh`, `regrid` interpolates the data onto a larger grid, calculates the mask on the larger grid, then interpolates the mask at the original image size.\n",
    "* `border_masking` -- Observational maps may not fill the entire image, and the edges of the mapped regions tend to be noisier. `border_masking` finds regions of `NaNs` along the edge of the map and tries to remove noisy regions near the edges. Its behaviour can be controlled using `border_kwargs`, where the size of a NaN region (`size`), size of the filter used to define noisy edges (`filt_width`), and the number of times to apply that filter (`eros_iter`) can be controlled.\n",
    "* `fill_hole_size` -- If there are holes within a skeleton, `fill_hole_size` can be used to fill in holes smaller than the given size.\n",
    "* `use_existing_mask` -- If you gave a user-defined mask when calling `FilFinder2D`, enable this parameter to skip making a new mask.\n",
    "\n",
    "Varying a few of these parameters will produce a much improved mask. First, since the data go right to the edges of the image, we can disable `border_masking`:"
   ]
  },
  {
   "cell_type": "code",
   "execution_count": null,
   "metadata": {},
   "outputs": [],
   "source": [
    "fil.create_mask(verbose=True, border_masking=False)"
   ]
  },
  {
   "cell_type": "markdown",
   "metadata": {},
   "source": [
    "The mask now extends right to the edge of the data. However, only one structure was retained. This occurs because `size_thresh` is too large. We can manually set the value in pixel units. The size must have units of area:"
   ]
  },
  {
   "cell_type": "code",
   "execution_count": null,
   "metadata": {},
   "outputs": [],
   "source": [
    "fil.create_mask(verbose=True, border_masking=False, size_thresh=400 * u.pix**2)"
   ]
  },
  {
   "cell_type": "markdown",
   "metadata": {},
   "source": [
    "Much better! Most of the filamentary structure is now being included in the mask.\n",
    "\n",
    "This simulated image does not have noise added in, however, most data sets will. The cell below demonstrates how to set `glob_thresh` to avoid noisy regions:"
   ]
  },
  {
   "cell_type": "code",
   "execution_count": null,
   "metadata": {},
   "outputs": [],
   "source": [
    "# Define the noise value. As a demonstration, say values below the 20th percentile here are dominated by noise\n",
    "noise_level = np.percentile(fil.image, 20)\n",
    "noise_level\n",
    "\n",
    "plt.imshow(fil.image > noise_level, origin='lower')"
   ]
  },
  {
   "cell_type": "markdown",
   "metadata": {},
   "source": [
    "The dark regions will be excluded from the final mask. The filament mask with the threshold is then:"
   ]
  },
  {
   "cell_type": "code",
   "execution_count": null,
   "metadata": {},
   "outputs": [],
   "source": [
    "fil.create_mask(verbose=True, border_masking=False, size_thresh=400 * u.pix**2, glob_thresh=0.0267)"
   ]
  },
  {
   "cell_type": "markdown",
   "metadata": {},
   "source": [
    "A few small region have been removed compared to the previous mask, but the structure is largely unchanged in this case.\n",
    "\n",
    "This is a usable mask for the filament analysis.  The effects of altering the other parameters are shown in [Koch & Rosolowsky 2015](https://ui.adsabs.harvard.edu/#abs/2015MNRAS.452.3435K/abstract).\n",
    "\n",
    "Try varying each parameter to assess its affect on your data.\n",
    "\n",
    "\n",
    "If you gave a user-defined mask at the beginning, run:"
   ]
  },
  {
   "cell_type": "code",
   "execution_count": null,
   "metadata": {},
   "outputs": [],
   "source": [
    "fil.create_mask(use_existing_mask=True)"
   ]
  },
  {
   "cell_type": "markdown",
   "metadata": {},
   "source": [
    "Skeletonization\n",
    "-----------------\n",
    "\n",
    "The next step is to reduce the mask into single-pixel-width skeleton objects. These skeletons will define the location of a filament and its path.\n",
    "\n",
    "In `FilFinder2D`, the [medial axis](http://scikit-image.org/docs/0.10.x/auto_examples/plot_medial_transform.html) is defined to be the skeleton:"
   ]
  },
  {
   "cell_type": "code",
   "execution_count": null,
   "metadata": {},
   "outputs": [],
   "source": [
    "fil.medskel(verbose=True)"
   ]
  },
  {
   "cell_type": "markdown",
   "metadata": {},
   "source": [
    "Skeletons: Pruning & Length\n",
    "-------------------------------\n",
    "\n",
    "We are now prepared to analyze the filaments. The first analysis step includes two parts: pruning the skeleton structures and finding the filament lengths. The first part removes small/unimportant spurs on the skeletons. To ensure important portions of the skeleton are retained, however, both parts are performed together.\n",
    "\n",
    "Each skeleton is converted into a graph object using the [networkx](https://networkx.github.io/) package. We use the graph to find the longest path through the skeleton, which is used to define the structure's length. All branches in the skeleton away from this longest path are eligible to be pruned off.\n",
    "\n",
    "This process is handled by the `FilFinder2D.analyze_skeletons` function. When using `verbose=True`, a ton of plots will get returned. To save you some scrolling, the verbose mode is highlighted for just one filament below.\n",
    "\n",
    "With just the default settings:"
   ]
  },
  {
   "cell_type": "code",
   "execution_count": null,
   "metadata": {},
   "outputs": [],
   "source": [
    "fil.analyze_skeletons()\n",
    "\n",
    "plt.imshow(fil.skeleton, origin='lower')"
   ]
  },
  {
   "cell_type": "markdown",
   "metadata": {},
   "source": [
    "The skeletons are largely the same, with only short branches removed.\n",
    "\n",
    "The default settings use minimum skeleton and branch lengths based off of the beam size. To be kept, a branch must be at least three times the length of the beam and a skeleton must have a length of 5 times the beam. Practically, this will only remove very small features.\n",
    "\n",
    "These parameters, and ones related to the pruning, can be manually set:\n",
    "\n",
    "* `prune_criteria` -- The criteria for removing a branch can be altered. The default ('all') uses a mix of the average intensity along the branch and its length. The length alone can be used for pruning with `prune_criteria='length'`. All branches below this length will be removed. Finally, only the intensity can be used for pruning (`prune_criteria='intensity'`). A branch is kept in this case by comparing the average intensity along the branch to the average over the whole filament. The critical fraction that determines whether a branch is important is set by `relintens_thresh`.\n",
    "* `relintens_thresh` -- Set the critical intensity comparison for intensity-based pruning.\n",
    "* `nbeam_lengths` -- Number of beam widths a skeleton must have to be considered a valid structure. Default is 5.\n",
    "* `branch_nbeam_lengths` -- Number of beam widths a branch must have to avoid pruning. Default is 3.\n",
    "* `skel_thresh` -- Minimum length for a skeleton. Overrides `nbeam_lengths`. Must have a unit of length.\n",
    "* `branch_thresh` -- Minimum length for a branch. Overrides `branch_nbeam_lengths`. Must have a unit of length.\n",
    "* `max_prune_iter` -- Number of pruning iterations. The default is 10, which works well for multiple data sets used in the testing process. A warning is returned if the maximum is reached. **New in `FilFinder2D`!**\n",
    "\n",
    "Here we will highlight the effect of pruning away moderately long branches. Note that re-running `FilFinder2D.analyze_skeletons` will start on the *output* from the previous call, not that original skeleton from `FilFinder2D.medskel`."
   ]
  },
  {
   "cell_type": "code",
   "execution_count": null,
   "metadata": {},
   "outputs": [],
   "source": [
    "fil.analyze_skeletons(branch_thresh=40 * u.pix, prune_criteria='length')\n",
    "\n",
    "plt.imshow(fil.skeleton, origin='lower')\n",
    "plt.contour(fil.skeleton_longpath, colors='r')"
   ]
  },
  {
   "cell_type": "markdown",
   "metadata": {},
   "source": [
    "The structure have now been significantly pruned. The red contours highlight the longest paths through each skeleton.\n",
    "\n",
    "If we continue to increase the branch threshold, the skeletons will converge to the longest path structures:"
   ]
  },
  {
   "cell_type": "code",
   "execution_count": null,
   "metadata": {},
   "outputs": [],
   "source": [
    "fil.analyze_skeletons(branch_thresh=400 * u.pix, prune_criteria='length')\n",
    "\n",
    "plt.imshow(fil.skeleton, origin='lower')\n",
    "plt.contour(fil.skeleton_longpath, colors='r')"
   ]
  },
  {
   "cell_type": "markdown",
   "metadata": {},
   "source": [
    "This is an extreme case of pruning and a significant amount of real structure was removed. We will return to a less pruned version to use for the rest of the tutorial:"
   ]
  },
  {
   "cell_type": "code",
   "execution_count": null,
   "metadata": {},
   "outputs": [],
   "source": [
    "fil.medskel(verbose=False)\n",
    "fil.analyze_skeletons(branch_thresh=5 * u.pix, prune_criteria='length')\n",
    "\n",
    "plt.imshow(fil.skeleton, origin='lower')\n",
    "plt.contour(fil.skeleton_longpath, colors='r')"
   ]
  },
  {
   "cell_type": "markdown",
   "metadata": {},
   "source": [
    "Another new feature of `FilFinder2D` is that each filament has its own analysis class defined in `fil.filaments`:"
   ]
  },
  {
   "cell_type": "code",
   "execution_count": null,
   "metadata": {},
   "outputs": [],
   "source": [
    "fil.filaments"
   ]
  },
  {
   "cell_type": "markdown",
   "metadata": {},
   "source": [
    "This allows for each skeleton to be analyzed independently, in case your analysis requires fine-tuning.\n",
    "\n",
    "A separate tutorial on the `Filament2D` class is available from the [docs page](http://fil-finder.readthedocs.io/en/latest/). We will highlight some of the features here to show the plotting outputs. Each `Filament2D` class does not contain that entire image, however, to avoid making multiple copies of the data.\n",
    "\n",
    "The first filament is quite large with a lot of structure. We can plot the output from `FilFinder2D.analyze_skeletons` for just one filament with:"
   ]
  },
  {
   "cell_type": "code",
   "execution_count": null,
   "metadata": {},
   "outputs": [],
   "source": [
    "fil1 = fil.filaments[0]\n",
    "fil1.skeleton_analysis(fil.image, verbose=True, branch_thresh=5 * u.pix, prune_criteria='length')"
   ]
  },
  {
   "cell_type": "markdown",
   "metadata": {},
   "source": [
    "Three plots are returned:\n",
    "\n",
    "* The labeled branch array (left) with intersection points removed and the equivalent graph structure (right).\n",
    "* The longest path through the skeleton (left) and the same labeled branch array (right) as above.\n",
    "* The final, pruned skeleton structure.\n",
    "\n",
    "Only one set of plots is shown after the iterative pruning has been finished.\n",
    "\n",
    "The lengths of the filament's longest paths are now calculated:"
   ]
  },
  {
   "cell_type": "code",
   "execution_count": null,
   "metadata": {},
   "outputs": [],
   "source": [
    "fil.lengths()"
   ]
  },
  {
   "cell_type": "markdown",
   "metadata": {},
   "source": [
    "The default output is in pixel units, but if the angular and physical scales are defined, they can be converted into other units:"
   ]
  },
  {
   "cell_type": "code",
   "execution_count": null,
   "metadata": {},
   "outputs": [],
   "source": [
    "fil.lengths(u.deg)"
   ]
  },
  {
   "cell_type": "code",
   "execution_count": null,
   "metadata": {},
   "outputs": [],
   "source": [
    "fil.lengths(u.pc)"
   ]
  },
  {
   "cell_type": "markdown",
   "metadata": {},
   "source": [
    "The properties of the branches are also saved in the `FilFinder2D.branch_properties` dictionary. This includes the length of each branch, the average intensity, the skeleton pixels of the branch, and the number of branches in each skeleton:"
   ]
  },
  {
   "cell_type": "code",
   "execution_count": null,
   "metadata": {},
   "outputs": [],
   "source": [
    "fil.branch_properties.keys()"
   ]
  },
  {
   "cell_type": "code",
   "execution_count": null,
   "metadata": {},
   "outputs": [],
   "source": [
    "fil.branch_properties['number']"
   ]
  },
  {
   "cell_type": "code",
   "execution_count": null,
   "metadata": {},
   "outputs": [],
   "source": [
    "fil.branch_properties['length'][0]"
   ]
  },
  {
   "cell_type": "markdown",
   "metadata": {},
   "source": [
    "If only prominent branches are needed for your analysis, there is an option to reconstruct the skeletons\n",
    "using _only branches above a min length, regardless of the overall filament connectivity._\n",
    "\n",
    "For individual filaments, this mode is specified in `Filament2D.skeleton` using the kwarg options `out_type='minbranchlength'` and `branch_thresh` of some pixel length value."
   ]
  },
  {
   "cell_type": "code",
   "execution_count": null,
   "metadata": {},
   "outputs": [],
   "source": [
    "fil1 = fil.filaments[1]\n",
    "\n",
    "plt.imshow(fil1.skeleton(out_type='minbranchlength', branch_thresh=20.0 * u.pix))\n",
    "plt.show()"
   ]
  },
  {
   "cell_type": "code",
   "execution_count": null,
   "metadata": {},
   "outputs": [],
   "source": [
    "fil.filaments[1].branch_properties['pixels'][0][:, 1]\n",
    "\n",
    "# fil.filaments[1].pixel_extents"
   ]
  },
  {
   "cell_type": "markdown",
   "metadata": {},
   "source": [
    "The `FilFinder2D.make_skeleton_min_branchlength` function will return the all filaments with branches above a minimum length. This is a separate function with no state changes within `FilFinder2D` as the filament connectivity will be lost."
   ]
  },
  {
   "cell_type": "code",
   "execution_count": null,
   "metadata": {},
   "outputs": [],
   "source": [
    "skeleton_minbranch = fil.make_skeleton_minbranchlength(20.0 * u.pix)\n",
    "\n",
    "plt.imshow(fil.skeleton)\n",
    "plt.contour(skeleton_minbranch, levels=[0.5], colors='r')\n",
    "plt.show()"
   ]
  },
  {
   "cell_type": "markdown",
   "metadata": {},
   "source": [
    "Note that the pixels are defined with respect to the cut-out structures in `Filament2D`. These offsets are contained in `FilFinder2D.filament_extents`. See the `FilFinder2D` tutorial for more information.\n",
    "\n",
    "The branch lengths can also be returned with:"
   ]
  },
  {
   "cell_type": "code",
   "execution_count": null,
   "metadata": {},
   "outputs": [],
   "source": [
    "fil.branch_lengths(u.pix)[0]"
   ]
  },
  {
   "cell_type": "code",
   "execution_count": null,
   "metadata": {},
   "outputs": [],
   "source": [
    "fil.branch_lengths(u.pc)[0]"
   ]
  },
  {
   "cell_type": "markdown",
   "metadata": {},
   "source": [
    "Curvature and Orientation\n",
    "-----------------------------\n",
    "\n",
    "A filament's curvature and orientation are calculated using a modified version of the [Rolling Hough Transform (RHT)](http://adsabs.harvard.edu/abs/2014ApJ...789...82C). This can be run either on the longest path skeletons or on individual branches.\n",
    "\n",
    "The default setting is to run on the longest path skeletons:"
   ]
  },
  {
   "cell_type": "code",
   "execution_count": null,
   "metadata": {},
   "outputs": [],
   "source": [
    "fil.exec_rht()\n",
    "fil.filaments[0].plot_rht_distrib()"
   ]
  },
  {
   "cell_type": "markdown",
   "metadata": {},
   "source": [
    "The RHT distribution is shown for the first skeleton, along with its longest path skeleton. The polar plot shows the distribution as a function of $2\\theta$. Since there is no preferred direction, $0$ and $\\pi$ are equivalent direction for a filament, and so the distribution is defined over $\\theta \\in [-\\pi/2, \\pi/2)$. Plotting the distribution as $2\\theta$ makes it easier to visualize with discontinuities. The solid green line shows the mean orientation of the filament, and the curvature region is indicated by the angle between the dashed blue lines.\n",
    "\n",
    "The RHT distribution is built by measuring the angular distribution in a circular region around each pixel in the skeleton, then accumulating the distribution over all pixels in the skeleton. There are three parameters that affect the distribution:\n",
    "\n",
    "* `radius` -- the radius of the circular region to use. The default is 10 pixels. The region must be large enough to avoid pixelization (causing spikes at 0, 45, and 90 deg) but small enough to only include the local filament direction.\n",
    "* `ntheta` -- The number of bins in $\\theta$ to calculate the distribution at. Default is 180.\n",
    "* `background_percentile` -- The accumulation process used to create the distribution will create a constant background level over $\\theta$. Peaks in the distribution are better characterized by removing this constant level. The default setting is to subtract the 25th percentile from the distribution.\n",
    "\n",
    "The RHT returns the orientation and curvature of each filament. The orientation is defined as the circular mean and the curvature is the interquartile region about the mean. See the [documentation](http://fil-finder.readthedocs.io/en/latest/api/fil_finder.FilFinder2D.html#fil_finder.FilFinder2D.exec_rht) for the definitions."
   ]
  },
  {
   "cell_type": "code",
   "execution_count": null,
   "metadata": {},
   "outputs": [],
   "source": [
    "fil.orientation"
   ]
  },
  {
   "cell_type": "code",
   "execution_count": null,
   "metadata": {},
   "outputs": [],
   "source": [
    "fil.curvature"
   ]
  },
  {
   "cell_type": "markdown",
   "metadata": {},
   "source": [
    "It can be more useful to run this analysis on individual branches to understand the distribution of orientation and curvature across the whole map. This can be performed by enabling `branches=True`:"
   ]
  },
  {
   "cell_type": "code",
   "execution_count": null,
   "metadata": {},
   "outputs": [],
   "source": [
    "fil.exec_rht(branches=True, min_branch_length=5 * u.pix)"
   ]
  },
  {
   "cell_type": "markdown",
   "metadata": {},
   "source": [
    "There is no default plot setting in this case.\n",
    "\n",
    "An additional parameter is enabled in this mode: `min_branch_lengths`. This avoids running the RHT on very short branches, where pixelization will lead to large spikes towards the axis directions.\n",
    "\n",
    "The outputs are contained in `FilFinder2D.orientation_branches` and `FilFinder2D.curvature_branches`, which return a list of lists for each filament. These can be visualized as distributions:"
   ]
  },
  {
   "cell_type": "code",
   "execution_count": null,
   "metadata": {},
   "outputs": [],
   "source": [
    "_ = plt.hist(fil.orientation_branches[0].value, bins=10)\n",
    "plt.xlabel(\"Orientation (rad)\")\n",
    "\n",
    "plt.show()"
   ]
  },
  {
   "cell_type": "code",
   "execution_count": null,
   "metadata": {},
   "outputs": [],
   "source": [
    "all_orient = np.array([orient.value for fil_orient in fil.orientation_branches for orient in fil_orient])\n",
    "# Short, excluded branches have NaNs\n",
    "all_orient = all_orient[np.isfinite(all_orient)]\n",
    "\n",
    "_ = plt.hist(all_orient, bins=10)\n",
    "plt.xlabel(\"Orientation (rad)\")\n",
    "plt.show()"
   ]
  },
  {
   "cell_type": "markdown",
   "metadata": {},
   "source": [
    "No orientation is strongly preferred in the example data."
   ]
  },
  {
   "cell_type": "markdown",
   "metadata": {},
   "source": [
    "Radial Profiles and Widths\n",
    "-------------------------\n",
    "\n",
    "`FilFinder2D` finds filament widths by creating radial profiles centered on the skeleton. A simple model can then be fit to the radial profile to find the width.\n",
    "\n",
    "There are several parameters used to control the creation of the radial profile:\n",
    "\n",
    "* `max_dist` -- The maximum radial distance to build the radial profile to. Must be given in units of length (pixel, degree, pc, etc...). The default is 10 pixels. In order to not bias the fit, the profile should extend far enough to adequately fit the background level.\n",
    "* `pad_to_distance` -- FilFinder only includes pixels in the radial profiles that are closest to the filament which avoids double-counting pixels. But if the filaments are closely packed together, this can severely limit the number of points used to make the profile. `pad_to_distance` forces all pixels within the given distance to be included in the profile. Must be given in length units and be less than `max_dist`.\n",
    "* `use_longest_path` -- Will use the longest path skeleton instead of the full skeleton. Default is False.\n",
    "* `kwargs` -- These are passed to the [radial_profile](https://github.com/e-koch/FilFinder/blob/master/fil_finder/width.py#L365) function. Please see the documentation in the link for the different options. If an error about empty bins or an array with a shape of 0 is returned, try using `auto_cut=False`.\n",
    "\n",
    "FilFinder supports 3 simple models for fitting the radial profiles: a Gaussian with a mean fixed to 0 and a constant background, the same Gaussian without a background, and a non-parametric method to estimate Gaussian widths. However, FilFinder uses the [astropy.modeling](http://docs.astropy.org/en/stable/modeling/) package and will accept any 1D astropy model. For example, the [radfil](https://github.com/catherinezucker/radfil) package has an astropy implementation of a Plummer model, which could be used here.\n",
    "\n",
    "The parameters that control the fitting are:\n",
    "\n",
    "* `fit_model` -- The model to the profiles to. The defaults are `gaussian_bkg`, `gaussian_nobkg`, and `nonparam`. Otherwise, a 1D astropy model can be given, as discussed above.\n",
    "* `fitter` -- The fitter to use. See [astropy.modeling.fitter](http://docs.astropy.org/en/stable/modeling/index.html#module-astropy.modeling.fitting). Defaults to a least-squares fitter.\n",
    "* `try_nonparam` -- If the fit to the model fails, the non-parametric method can be used instead. Default is True.\n",
    "* `add_width_to_length` -- The fitted FWHM can be added to the lengths (`FilFinder2D.lengths`), assuming that the skeleton's length was shortened by the width in the medial axis transform (`FilFinder2D.medskel`). The width will not be added if the fit was poor or highly unconstrained. Default is True.\n",
    "* `deconvolve_width` -- Subtract off the beam width when calculating the FWHM width. Default is True.\n",
    "* `fwhm_function` -- Pass a function that takes the `fit_model` and returns the FWHM and its uncertainty. If None is given, the FWHM is passed assuming a Gaussian profile.\n",
    "* `chisq_max` -- The critical reduced $\\chi^2$ used to determine \"bad\" fits. The default is 10, and is entirely subjective. This seems to flag most bad fits, but the quality of the fits should always be visually checked.\n",
    "\n",
    "With the default settings, a Gaussian with a constant background is fit to the profiles:"
   ]
  },
  {
   "cell_type": "code",
   "execution_count": null,
   "metadata": {},
   "outputs": [],
   "source": [
    "fil.find_widths(max_dist=0.2 * u.pc)\n",
    "fil.filaments[0].plot_radial_profile(xunit=u.pc)"
   ]
  },
  {
   "cell_type": "markdown",
   "metadata": {},
   "source": [
    "The radial profile of the first filament is shown above. The binned radial profile is shown as black diamonds and the fit is shown with the red solid line.\n",
    "\n",
    "The profile can be plotted with different `xunit`s:"
   ]
  },
  {
   "cell_type": "code",
   "execution_count": null,
   "metadata": {},
   "outputs": [],
   "source": [
    "fil.filaments[0].plot_radial_profile(xunit=u.pix)"
   ]
  },
  {
   "cell_type": "markdown",
   "metadata": {},
   "source": [
    "Based on the warning above, at least one of the filament profile fits failed. We can look at the list of widths. `FilFinder2D.widths()` returns the FWHMs and their uncertainties:"
   ]
  },
  {
   "cell_type": "code",
   "execution_count": null,
   "metadata": {},
   "outputs": [],
   "source": [
    "fil.widths()"
   ]
  },
  {
   "cell_type": "markdown",
   "metadata": {},
   "source": [
    "These widths can be returned in other units as well:"
   ]
  },
  {
   "cell_type": "code",
   "execution_count": null,
   "metadata": {},
   "outputs": [],
   "source": [
    "fil.widths(u.pc)"
   ]
  },
  {
   "cell_type": "markdown",
   "metadata": {},
   "source": [
    "The 6th filament has a much larger width, and its uncertainty is very large. We can look at this radial profile more closely:"
   ]
  },
  {
   "cell_type": "code",
   "execution_count": null,
   "metadata": {},
   "outputs": [],
   "source": [
    "fil.filaments[6].plot_radial_profile(xunit=u.pc)"
   ]
  },
  {
   "cell_type": "markdown",
   "metadata": {},
   "source": [
    "This is a faint feature near another, and the simple modeling has failed here. This is a case where fine-tuning may lead to a better result for certain filaments. See the `Filament2D` tutorial.\n",
    "\n",
    "The fit results can be returned as an [astropy table](http://docs.astropy.org/en/stable/table/):"
   ]
  },
  {
   "cell_type": "code",
   "execution_count": null,
   "metadata": {},
   "outputs": [],
   "source": [
    "fil.width_fits(xunit=u.pc)"
   ]
  },
  {
   "cell_type": "markdown",
   "metadata": {},
   "source": [
    "This provides the fit results, the parameter errors, whether or not the fit failed, and the type of model used. The table can then be saved.\n",
    "\n",
    "Other Filament Properties\n",
    "------------------------\n",
    "\n",
    "With the width models, we can define other filament properties, such as the total intensity within the FWHM of the filament:"
   ]
  },
  {
   "cell_type": "code",
   "execution_count": null,
   "metadata": {},
   "outputs": [],
   "source": [
    "fil.total_intensity()"
   ]
  },
  {
   "cell_type": "markdown",
   "metadata": {},
   "source": [
    "If a background was fit in the model, the background level can be subtracted off. The index of the background parameter needs to be given. For the ''gaussian_bkg'', this is `bkg_mod_index=2` and set as the default:"
   ]
  },
  {
   "cell_type": "code",
   "execution_count": null,
   "metadata": {},
   "outputs": [],
   "source": [
    "fil.total_intensity(bkg_subtract=True)"
   ]
  },
  {
   "cell_type": "markdown",
   "metadata": {},
   "source": [
    "The median brightness along the skeleton is calculated with:"
   ]
  },
  {
   "cell_type": "code",
   "execution_count": null,
   "metadata": {},
   "outputs": [],
   "source": [
    "fil.median_brightness()"
   ]
  },
  {
   "cell_type": "markdown",
   "metadata": {},
   "source": [
    "Based on the radial profile models, we can create an image based on the models:"
   ]
  },
  {
   "cell_type": "code",
   "execution_count": null,
   "metadata": {},
   "outputs": [],
   "source": [
    "fil_mod = fil.filament_model()\n",
    "plt.imshow(fil_mod.value)\n",
    "plt.colorbar()\n",
    "plt.show()"
   ]
  },
  {
   "cell_type": "markdown",
   "metadata": {},
   "source": [
    "By default, the background level is subtracted off, as was used for `fil.total_intensity`. The maximum radius around each skeleton to evaluate the model can also be given with `max_radius`. The default is 3 times the FWHM, which should account for most of the model flux.\n",
    "\n",
    "This model can be used to estimate the fraction of the total flux contained in the filamentary structure:"
   ]
  },
  {
   "cell_type": "code",
   "execution_count": null,
   "metadata": {},
   "outputs": [],
   "source": [
    "fil.covering_fraction()"
   ]
  },
  {
   "cell_type": "markdown",
   "metadata": {},
   "source": [
    "The same keywords given to `FilFinder2D.filament_model` can be passed here.\n",
    "\n",
    "The values aligned along the longest path are returned with:"
   ]
  },
  {
   "cell_type": "code",
   "execution_count": null,
   "metadata": {},
   "outputs": [],
   "source": [
    "profs = fil.ridge_profiles()\n",
    "plt.subplot(211)\n",
    "plt.plot(profs[0])\n",
    "plt.subplot(212)\n",
    "plt.plot(profs[1])\n",
    "plt.tight_layout()\n",
    "plt.show()"
   ]
  },
  {
   "cell_type": "markdown",
   "metadata": {},
   "source": [
    "This can be useful for examining the distribution of cores along filaments."
   ]
  },
  {
   "cell_type": "markdown",
   "metadata": {},
   "source": [
    "Output Table & Images\n",
    "------------------------"
   ]
  },
  {
   "cell_type": "markdown",
   "metadata": {},
   "source": [
    "`FilFinder2D` returns result tables as [astropy tables](http://docs.astropy.org/en/stable/table/). `FilFinder2D.width_fits` is highlighted above.\n",
    "\n",
    "The width results and additional properties are returned with:"
   ]
  },
  {
   "cell_type": "code",
   "execution_count": null,
   "metadata": {},
   "outputs": [],
   "source": [
    "fil.output_table(xunit=u.pc)"
   ]
  },
  {
   "cell_type": "markdown",
   "metadata": {},
   "source": [
    "This will include units if attached to the image or radial profile models.\n",
    "\n",
    "The median positions can also be returned in world coordinates if WCS information was given:"
   ]
  },
  {
   "cell_type": "code",
   "execution_count": null,
   "metadata": {},
   "outputs": [],
   "source": [
    "fil.output_table(xunit=u.pc, world_coord=True)"
   ]
  },
  {
   "cell_type": "markdown",
   "metadata": {},
   "source": [
    "A table for each of the branch properties of the filaments is returned with:"
   ]
  },
  {
   "cell_type": "code",
   "execution_count": null,
   "metadata": {},
   "outputs": [],
   "source": [
    "branch_tables = fil.branch_tables()\n",
    "branch_tables[0]"
   ]
  },
  {
   "cell_type": "markdown",
   "metadata": {},
   "source": [
    "If the RHT was run on branches, these data can also be added to the branch tables:"
   ]
  },
  {
   "cell_type": "code",
   "execution_count": null,
   "metadata": {},
   "outputs": [],
   "source": [
    "branch_tables = fil.branch_tables(include_rht=True)\n",
    "branch_tables[0]"
   ]
  },
  {
   "cell_type": "markdown",
   "metadata": {},
   "source": [
    "These tables can be saved to a format supported by [astropy tables](http://docs.astropy.org/en/stable/table/io.html).\n",
    "\n",
    "Finally, the mask, skeletons, longest path skeletons, and the filament model can be saved as a FITS file:"
   ]
  },
  {
   "cell_type": "code",
   "execution_count": null,
   "metadata": {},
   "outputs": [],
   "source": [
    "fil.save_fits()"
   ]
  },
  {
   "cell_type": "markdown",
   "metadata": {},
   "source": [
    "This will save the file with prefix given at the beginning. This can be changed by specifying `save_name` here. The keywords for `FilFinder2D.filament_model` can also be specified here.\n",
    "\n",
    "The regions and stamps around each filament can also be saved with:"
   ]
  },
  {
   "cell_type": "code",
   "execution_count": null,
   "metadata": {},
   "outputs": [],
   "source": [
    "fil.save_stamp_fits()"
   ]
  },
  {
   "cell_type": "markdown",
   "metadata": {},
   "source": [
    "The same arguments for `FilFinder2D.save_fits` can be given, along with `pad_size` which sets how large of an area around each skeleton is included in the stamp. This will create a FITS file for each filament."
   ]
  }
 ],
 "metadata": {
  "kernelspec": {
   "display_name": "base",
   "language": "python",
   "name": "python3"
  },
  "language_info": {
   "codemirror_mode": {
    "name": "ipython",
    "version": 3
   },
   "file_extension": ".py",
   "mimetype": "text/x-python",
   "name": "python",
   "nbconvert_exporter": "python",
   "pygments_lexer": "ipython3",
   "version": "3.12.7"
  }
 },
 "nbformat": 4,
 "nbformat_minor": 4
}
